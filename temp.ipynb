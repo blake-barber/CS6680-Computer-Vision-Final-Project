{
 "cells": [
  {
   "cell_type": "markdown",
   "metadata": {},
   "source": [
    "## Step 3: SIFT Feature Extraction\n",
    "\n",
    "SIFT (Scale-Invariant Feature Transform) extracts key points and descriptors from the image."
   ]
  },
  {
   "cell_type": "code",
   "execution_count": null,
   "metadata": {
    "vscode": {
     "languageId": "plaintext"
    }
   },
   "outputs": [],
   "source": [
    "def extract_sift_features(image):\n",
    "    \"\"\"\n",
    "    Extract SIFT keypoints and descriptors.\n",
    "    \"\"\"\n",
    "    if image.max() <= 1.0:  # If normalized, scale back to [0, 255]\n",
    "        image = (image * 255).astype(np.uint8)\n",
    "    gray = cv2.cvtColor(image, cv2.COLOR_BGR2GRAY)  # Convert to grayscale\n",
    "    if gray is None or gray.size == 0:\n",
    "        raise ValueError(\"Image is empty or invalid after grayscale conversion.\")\n",
    "    sift = cv2.SIFT_create()\n",
    "    keypoints, descriptors = sift.detectAndCompute(gray, None)\n",
    "    return keypoints, descriptors\n",
    "\n",
    "def visualize_sift_keypoints(image, keypoints):\n",
    "    \"\"\"\n",
    "    Visualize SIFT keypoints with red dots, consistent with Shi-Tomasi visualization.\n",
    "    \"\"\"\n",
    "    plt.figure(figsize=(6, 6))\n",
    "    plt.imshow(cv2.cvtColor(image, cv2.COLOR_BGR2RGB))\n",
    "    for kp in keypoints:\n",
    "        x, y = kp.pt  # Extract keypoint coordinates\n",
    "        plt.plot(x, y, 'ro', markersize=3)\n",
    "    plt.title(\"SIFT Keypoints\")\n",
    "    plt.axis(\"off\")\n",
    "    plt.show()\n",
    "\n",
    "\n",
    "# Example usage\n",
    "try:\n",
    "    sift_keypoints, sift_descriptors = extract_sift_features(sample_image)\n",
    "    print(f\"Number of SIFT Keypoints: {len(sift_keypoints)}\")\n",
    "except Exception as e:\n",
    "    print(f\"SIFT Error: {e}\")\n",
    "\n",
    "# Visualize the keypoints\n",
    "visualize_sift_keypoints(sample_image, sift_keypoints)"
   ]
  },
  {
   "cell_type": "markdown",
   "metadata": {},
   "source": [
    "## Step 4: SURF Feature Extraction\n",
    "\n",
    "SURF (Speeded-Up Robust Features) is a faster alternative to SIFT. Note that SURF requires opencv-contrib-python."
   ]
  },
  {
   "cell_type": "code",
   "execution_count": null,
   "metadata": {
    "vscode": {
     "languageId": "plaintext"
    }
   },
   "outputs": [],
   "source": [
    "def extract_surf_features(image):\n",
    "    \"\"\"\n",
    "    Extract SURF keypoints and descriptors.\n",
    "    \n",
    "    Parameters:\n",
    "    - image: Input image.\n",
    "    \n",
    "    Returns:\n",
    "    - keypoints: List of SURF keypoints.\n",
    "    - descriptors: Array of descriptors for the keypoints.\n",
    "    \"\"\"\n",
    "    gray = cv2.cvtColor(image, cv2.COLOR_BGR2GRAY)  # Convert to grayscale\n",
    "    surf = cv2.xfeatures2d.SURF_create(hessianThreshold=400)\n",
    "    keypoints, descriptors = surf.detectAndCompute(gray, None)\n",
    "    return keypoints, descriptors\n",
    "\n",
    "# Example usage\n",
    "sample_image = X_train[0]\n",
    "surf_keypoints, surf_descriptors = extract_surf_features(sample_image)\n",
    "\n",
    "# Visualize SURF keypoints\n",
    "sample_image_surf = cv2.drawKeypoints(sample_image, surf_keypoints, None, flags=cv2.DRAW_MATCHES_FLAGS_DRAW_RICH_KEYPOINTS)\n",
    "plt.figure(figsize=(6, 6))\n",
    "plt.imshow(cv2.cvtColor(sample_image_surf, cv2.COLOR_BGR2RGB))\n",
    "plt.title(\"SURF Keypoints\")\n",
    "plt.axis(\"off\")\n",
    "plt.show()\n"
   ]
  }
 ],
 "metadata": {
  "language_info": {
   "name": "python"
  }
 },
 "nbformat": 4,
 "nbformat_minor": 2
}
